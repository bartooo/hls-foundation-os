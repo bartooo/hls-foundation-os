{
 "cells": [
  {
   "cell_type": "code",
   "execution_count": 1,
   "metadata": {},
   "outputs": [],
   "source": [
    "# import wget\n",
    "import tarfile"
   ]
  },
  {
   "cell_type": "code",
   "execution_count": 2,
   "metadata": {},
   "outputs": [],
   "source": [
    "def extract_all_files(tar_file_path, extract_to):\n",
    "    with tarfile.open(tar_file_path, 'r') as tar:\n",
    "        tar.extractall(extract_to)"
   ]
  },
  {
   "cell_type": "code",
   "execution_count": 2,
   "metadata": {},
   "outputs": [],
   "source": [
    "url = \"https://download.xview2.org/train_images_labels_targets.tar.gz?Expires=1696685474&Signature=OOKcJgSmU5mXfRimQvklsPTTC0xnIJfoW1eDpO8jDcSjCMCPxVanU~PDhpSrOi0lgrsHH7OUhvFYf~6hBVwYwAIodmq84AZ6I5WEEXvd3auj8t8PT7tLe6G~tsJ30G9Es3~WzzghEoQ5CoF7~qhz9y60VmebPc50qruPYxcHJMyd-jD6MHtQvppWgYTEzH-W3gFQaYAA345hmRpOyjjX4~POUy6IXZJX9Cm6ublF2wBOFzmvXxTdCy8CcaQm2ajtCGZT6JUhPDlZU9PqH5rlDy9WGdI~VNlNu8UMoXhaYKWMCkdwd9pErGFaQ12dzS-92vc0ls0Fqei93EaZKylmgg__&Key-Pair-Id=APKAIKGDJB5C3XUL2DXQ\""
   ]
  },
  {
   "cell_type": "code",
   "execution_count": 3,
   "metadata": {},
   "outputs": [
    {
     "data": {
      "text/plain": [
       "'train_images_labels_targets.tar.gz'"
      ]
     },
     "execution_count": 3,
     "metadata": {},
     "output_type": "execute_result"
    }
   ],
   "source": [
    "wget.download(url)"
   ]
  },
  {
   "cell_type": "code",
   "execution_count": 4,
   "metadata": {},
   "outputs": [],
   "source": [
    "extract_all_files('train/xview_geotransforms.json.tgz', 'train/')"
   ]
  },
  {
   "cell_type": "code",
   "execution_count": null,
   "metadata": {},
   "outputs": [],
   "source": [
    "import wget\n",
    "import tarfile\n",
    "\n",
    "def extract_all_files(tar_file_path, extract_to):\n",
    "    with tarfile.open(tar_file_path, 'r') as tar:\n",
    "        tar.extractall(extract_to)\n",
    "\n",
    "url = \"https://download.xview2.org/train_images_labels_targets.tar.gz?Expires=1696685474&Signature=OOKcJgSmU5mXfRimQvklsPTTC0xnIJfoW1eDpO8jDcSjCMCPxVanU~PDhpSrOi0lgrsHH7OUhvFYf~6hBVwYwAIodmq84AZ6I5WEEXvd3auj8t8PT7tLe6G~tsJ30G9Es3~WzzghEoQ5CoF7~qhz9y60VmebPc50qruPYxcHJMyd-jD6MHtQvppWgYTEzH-W3gFQaYAA345hmRpOyjjX4~POUy6IXZJX9Cm6ublF2wBOFzmvXxTdCy8CcaQm2ajtCGZT6JUhPDlZU9PqH5rlDy9WGdI~VNlNu8UMoXhaYKWMCkdwd9pErGFaQ12dzS-92vc0ls0Fqei93EaZKylmgg__&Key-Pair-Id=APKAIKGDJB5C3XUL2DXQ\"\n",
    "\n",
    "\n",
    "wget.download(url)\n",
    "extract_all_files('train/xview_geotransforms.json.tgz', 'train/')"
   ]
  }
 ],
 "metadata": {
  "kernelspec": {
   "display_name": "my_env",
   "language": "python",
   "name": "python3"
  },
  "language_info": {
   "codemirror_mode": {
    "name": "ipython",
    "version": 3
   },
   "file_extension": ".py",
   "mimetype": "text/x-python",
   "name": "python",
   "nbconvert_exporter": "python",
   "pygments_lexer": "ipython3",
   "version": "3.9.13"
  },
  "orig_nbformat": 4
 },
 "nbformat": 4,
 "nbformat_minor": 2
}
